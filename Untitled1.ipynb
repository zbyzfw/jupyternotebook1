{
 "cells": [
  {
   "cell_type": "code",
   "execution_count": 18,
   "id": "d5a24628-da18-422f-8f75-7dbecfbdc7fd",
   "metadata": {},
   "outputs": [
    {
     "ename": "SyntaxError",
     "evalue": "invalid syntax (3249264920.py, line 1)",
     "output_type": "error",
     "traceback": [
      "\u001b[1;36m  File \u001b[1;32m\"C:\\Users\\dahe\\AppData\\Local\\Temp\\ipykernel_4340\\3249264920.py\"\u001b[1;36m, line \u001b[1;32m1\u001b[0m\n\u001b[1;33m    rule = zh_rule(`xpath_leader_name={!!//meta[@name='ColumnName']/@content | //meta[@name='ArticleTitle']/@content!!}##xpath_leader_resume={!!//div[@class='leader-box fl']//div[2]/div[2]|//div[@id=\"content\"]/p[position()>4]!!}##xpath_leader_work={!!//div[@class='leader-box fl']//div[2]/div[1]|//div[@id=\"content\"]/p[position()>2][position()<3]!!}##xpath_url={!!//ul[@class='cl']//a[@class='name']/@href!!}`)\u001b[0m\n\u001b[1;37m                   ^\u001b[0m\n\u001b[1;31mSyntaxError\u001b[0m\u001b[1;31m:\u001b[0m invalid syntax\n"
     ]
    }
   ],
   "source": [
    "rule = zh_rule(xpath_leader_name={!!//meta[@name='ColumnName']/@content | //meta[@name='ArticleTitle']/@content!!}##xpath_leader_resume={!!//div[@class='leader-box fl']//div[2]/div[2]|//div[@id=\"content\"]/p[position()>4]!!}##xpath_leader_work={!!//div[@class='leader-box fl']//div[2]/div[1]|//div[@id=\"content\"]/p[position()>2][position()<3]!!}##xpath_url={!!//ul[@class='cl']//a[@class='name']/@href!!}`)"
   ]
  },
  {
   "cell_type": "code",
   "execution_count": 15,
   "id": "fb3736c8-d422-48f6-8c53-93da6c129786",
   "metadata": {},
   "outputs": [
    {
     "name": "stdout",
     "output_type": "stream",
     "text": [
      "https://file.henan.gov.cn/4500000001/img/footer-1.png\n"
     ]
    }
   ],
   "source": [
    "print(rule.get('re_partygov_bs'))"
   ]
  },
  {
   "cell_type": "code",
   "execution_count": 1,
   "id": "15fcb840-1e66-4385-af4e-07c9cee6dcbe",
   "metadata": {},
   "outputs": [],
   "source": [
    "def zh_rule(rules_str):\n",
    "    # 解析规则处理\n",
    "    rule_dict = {}\n",
    "    rules = rules_str.split(\"##\")\n",
    "    for i in rules:\n",
    "        if i.count(\"!!\") == 2:\n",
    "            s = i.split(\"={!!\")\n",
    "            rule_dict[s[0]] = s[1].split(\"!!}\")[0]\n",
    "    return rule_dict"
   ]
  },
  {
   "cell_type": "code",
   "execution_count": 9,
   "id": "ee3e9c43-c0a6-489e-ade2-de0ff5500ce0",
   "metadata": {},
   "outputs": [
    {
     "data": {
      "text/plain": [
       "True"
      ]
     },
     "execution_count": 9,
     "metadata": {},
     "output_type": "execute_result"
    }
   ],
   "source": [
    "not 0 or 0"
   ]
  },
  {
   "cell_type": "code",
   "execution_count": 16,
   "id": "84a79c82-617b-4140-8a79-86411ef4c0a4",
   "metadata": {},
   "outputs": [
    {
     "data": {
      "text/plain": [
       "''"
      ]
     },
     "execution_count": 16,
     "metadata": {},
     "output_type": "execute_result"
    }
   ],
   "source": [
    "','.join([])"
   ]
  },
  {
   "cell_type": "code",
   "execution_count": 21,
   "id": "073d5a34-ea9b-46df-8fcf-e00012018e86",
   "metadata": {},
   "outputs": [
    {
     "data": {
      "text/plain": [
       "{'xpath_leader_name': \"//meta[@name='ColumnName']/@content | //meta[@name='ArticleTitle']/@content\",\n",
       " 'xpath_leader_resume': '//div[@class=\\'leader-box fl\\']//div[2]/div[2]|//div[@id=\"content\"]/p[position()>4]',\n",
       " 'xpath_leader_work': '//div[@class=\\'leader-box fl\\']//div[2]/div[1]|//div[@id=\"content\"]/p[position()>2][position()<3]',\n",
       " 'xpath_url': \"//ul[@class='cl']//a[@class='name']/@href\"}"
      ]
     },
     "execution_count": 21,
     "metadata": {},
     "output_type": "execute_result"
    }
   ],
   "source": [
    "zh_rule(\"\"\"xpath_leader_name={!!//meta[@name='ColumnName']/@content | //meta[@name='ArticleTitle']/@content!!}##xpath_leader_resume={!!//div[@class='leader-box fl']//div[2]/div[2]|//div[@id=\"content\"]/p[position()>4]!!}##xpath_leader_work={!!//div[@class='leader-box fl']//div[2]/div[1]|//div[@id=\"content\"]/p[position()>2][position()<3]!!}##xpath_url={!!//ul[@class='cl']//a[@class='name']/@href!!}\"\"\")"
   ]
  },
  {
   "cell_type": "code",
   "execution_count": 4,
   "id": "f66c5a5b-905f-40a0-848a-f6e02bfc7f67",
   "metadata": {},
   "outputs": [],
   "source": [
    "import ACfilter"
   ]
  },
  {
   "cell_type": "code",
   "execution_count": 9,
   "id": "c6e50802-2c91-4a6c-81f3-83a9830ac856",
   "metadata": {},
   "outputs": [],
   "source": [
    "# 字典文件必须是中文\n",
    "node = ACfilter.create_word_tree(\"key.txt\")"
   ]
  },
  {
   "cell_type": "code",
   "execution_count": 10,
   "id": "07e1f84c-a7eb-4789-bd39-107395147f37",
   "metadata": {},
   "outputs": [],
   "source": [
    "ACfilter.createAC(node)"
   ]
  },
  {
   "cell_type": "code",
   "execution_count": 11,
   "id": "fcb17277-9543-4e36-91be-4dc19f499b6f",
   "metadata": {},
   "outputs": [
    {
     "data": {
      "text/plain": [
       "['AV', 'sm', '近平']"
      ]
     },
     "execution_count": 11,
     "metadata": {},
     "output_type": "execute_result"
    }
   ],
   "source": [
    "ACfilter.filter('AVsmaaaaa习近平    !!!!!',node)"
   ]
  }
 ],
 "metadata": {
  "kernelspec": {
   "display_name": "py37",
   "language": "python",
   "name": "py37"
  },
  "language_info": {
   "codemirror_mode": {
    "name": "ipython",
    "version": 3
   },
   "file_extension": ".py",
   "mimetype": "text/x-python",
   "name": "python",
   "nbconvert_exporter": "python",
   "pygments_lexer": "ipython3",
   "version": "3.7.10"
  }
 },
 "nbformat": 4,
 "nbformat_minor": 5
}

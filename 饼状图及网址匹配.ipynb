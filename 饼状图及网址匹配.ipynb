{
 "cells": [
  {
   "cell_type": "code",
   "execution_count": 2,
   "id": "c0cb53c5",
   "metadata": {},
   "outputs": [
    {
     "name": "stdout",
     "output_type": "stream",
     "text": [
      "None\n"
     ]
    },
    {
     "data": {
      "image/png": "[encoded data removed]",
      "text/plain": [
       "<Figure size 432x288 with 1 Axes>"
      ]
     },
     "metadata": {},
     "output_type": "display_data"
    }
   ],
   "source": [
    "import matplotlib.pyplot as plt\n",
    "# import numpy as np\n",
    "from matplotlib.font_manager import FontProperties\n",
    "from matplotlib import rc\n",
    "# font_set = FontProperties(fname=r\"/System/Library/Fonts/STHeiti Medium.ttc\", size=15)\n",
    "# font_set = FontProperties(fname=\"simsun.ttc\", size=10)\n",
    "# rc(\"font\",family='YaHei')\n",
    "plt.rcParams['font.family'] = 'simsun'\n",
    "plt.rcParams['axes.unicode_minus'] = False\n",
    "\n",
    "y = [35, 165]\n",
    "\n",
    "plt.pie(y,\n",
    "        labels=[f'响应时间超过15秒',f'访问正常'], # 设置饼图标签\n",
    "        colors=[\"#d5695d\", \"#5d8ca8\"], # 设置饼图颜色\n",
    "        # colors=[\"#d5695d\", \"#5d8ca8\", \"#65a479\", \"#a564c9\"], # 设置饼图颜色\n",
    "        explode=(0, 0.2), # 第二部分突出显示，值越大，距离中心越远\n",
    "        # autopct='%.2f%%', # 格式化输出百分比\n",
    "       )\n",
    "plt.title(\"网站首页响应时间分布\")\n",
    "print(plt.savefig('bing.png'))\n",
    "plt.show()"
   ]
  },
  {
   "cell_type": "code",
   "execution_count": 40,
   "id": "7110bcdf-04b9-4c2e-b1fc-f7d19a0269c3",
   "metadata": {},
   "outputs": [],
   "source": [
    "def find_decode(demo):\n",
    "    \"\"\"\n",
    "        获取字节流，返回编码\n",
    "    :param demo:\n",
    "    :return:\n",
    "    \"\"\"\n",
    "    decode_list = [\"gb2312\", \"utf-8\", \"gbk\", \"cp1252\", \"ascii\", 'GB18030', 'unicode']\n",
    "    for html_decode in decode_list:\n",
    "        # print(html_decode)\n",
    "        if html_decode != \"unicode\":\n",
    "            try:\n",
    "                demo_encode = demo.decode(\"{}\".format(html_decode))\n",
    "                # print('demo编码为-->', html_decode)\n",
    "                return [html_decode, demo_encode]\n",
    "            except:\n",
    "                pass\n",
    "        else:\n",
    "            # print()\n",
    "            try:\n",
    "                demo.decode('unicode')\n",
    "                # print('demo编码为-->', \"unicode\")\n",
    "                return [\"unicode\"]\n",
    "            except:\n",
    "                return ['']"
   ]
  },
  {
   "cell_type": "code",
   "execution_count": 8,
   "id": "1952128a-6a66-41ee-98c5-69dc9705fd27",
   "metadata": {},
   "outputs": [
    {
     "name": "stdout",
     "output_type": "stream",
     "text": [
      "['纪念建党100周年']\n"
     ]
    }
   ],
   "source": [
    "import re,requests\n",
    "\n",
    "# res = requests.get('https://www.xiayi.gov.cn/')\n",
    "# # print(res.content)\n",
    "# html_decode_list = find_decode(res.content)\n",
    "# if len(html_decode_list) != 2:\n",
    "#     print('不解析unicode编码')\n",
    "# demo_code = html_decode_list[1]\n",
    "# print(demo_code)\n",
    "# 所有网址的正则\n",
    "url_compile=re.compile(\"[http://|ftp://|https://|www]?[^\\u4e00-\\u9fa5\\s]*?\\.[com|net|cn|me|tw|fr|html][^\\u4e00-\\u9fa5\\s]*\")\n",
    "url_compile2=re.compile(\"(http:\\/\\/|ftp://|https://)?([A-Za-z0-9_\\.]+)(\\.)(com|net|cn|me|tw|fr)(/[A-Za-z0-9_\\//]+)*\")\n",
    "url_compile3 = re.compile(\"纪念建党100周年\")\n",
    "results=url_compile3.findall(\"这是一条纪念建党100周年测试的文本，纪念建党速戳→ sq.jx.com/j/JhBnddy/哈哈哈http://www.baidu.net\")\n",
    "# result2 = url_compile2.findall(demo_code)\n",
    "print(results)\n",
    "# for result in result2:\n",
    "#     url = ''.join(result)\n",
    "#     print(url)\n",
    "# print(result2)"
   ]
  },
  {
   "cell_type": "code",
   "execution_count": 6,
   "id": "eb909fe6-81ff-4ae8-9d05-e5ea1d7e816a",
   "metadata": {},
   "outputs": [
    {
     "name": "stdout",
     "output_type": "stream",
     "text": [
      "3675\n",
      "1486582\n",
      "15\n"
     ]
    }
   ],
   "source": [
    "print(eval(\"1091+851+832+901\"))\n",
    "print(eval(\"460991+309809+354843+360939\"))\n",
    "print(len(\"这是一条纪念建党100.+!0\"))"
   ]
  }
 ],
 "metadata": {
  "kernelspec": {
   "display_name": "Python 3 (ipykernel)",
   "language": "python",
   "name": "python3"
  },
  "language_info": {
   "codemirror_mode": {
    "name": "ipython",
    "version": 3
   },
   "file_extension": ".py",
   "mimetype": "text/x-python",
   "name": "python",
   "nbconvert_exporter": "python",
   "pygments_lexer": "ipython3",
   "version": "3.8.5"
  }
 },
 "nbformat": 4,
 "nbformat_minor": 5
}

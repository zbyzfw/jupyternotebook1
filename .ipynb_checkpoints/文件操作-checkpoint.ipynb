{
 "cells": [
  {
   "cell_type": "code",
   "execution_count": 8,
   "id": "27ae8586-7bac-4b41-9abe-ab747d9721bc",
   "metadata": {},
   "outputs": [],
   "source": [
    "import os,zipfile"
   ]
  },
  {
   "cell_type": "code",
   "execution_count": 6,
   "id": "eda26c4f-c5fc-41d2-9e94-a62ec119453a",
   "metadata": {},
   "outputs": [],
   "source": [
    "os.makedirs('aa/bbb/ccc')"
   ]
  },
  {
   "cell_type": "code",
   "execution_count": 11,
   "id": "5f134433-17ec-4ef5-afa5-df4f651ca185",
   "metadata": {},
   "outputs": [],
   "source": [
    "startdir = f\"aa\"  # 要压缩的文件夹路径\n",
    "file_news = startdir + '.zip'\n",
    "z = zipfile.ZipFile(file_news, 'w', zipfile.ZIP_DEFLATED)\n",
    "for dirpath, dirnames, filenames in os.walk(startdir):\n",
    "    fpath = dirpath.replace(startdir, '')\n",
    "    fpath = fpath and fpath + os.sep or ''\n",
    "    for filename in filenames:\n",
    "        z.write(os.path.join(dirpath, filename), fpath + filename)\n",
    "z.close()"
   ]
  }
 ],
 "metadata": {
  "kernelspec": {
   "display_name": "Python 3 (ipykernel)",
   "language": "python",
   "name": "python3"
  },
  "language_info": {
   "codemirror_mode": {
    "name": "ipython",
    "version": 3
   },
   "file_extension": ".py",
   "mimetype": "text/x-python",
   "name": "python",
   "nbconvert_exporter": "python",
   "pygments_lexer": "ipython3",
   "version": "3.8.5"
  }
 },
 "nbformat": 4,
 "nbformat_minor": 5
}

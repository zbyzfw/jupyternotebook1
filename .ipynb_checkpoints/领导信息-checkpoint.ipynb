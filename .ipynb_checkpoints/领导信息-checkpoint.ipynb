{
 "cells": [
  {
   "cell_type": "code",
   "execution_count": null,
   "id": "123cec1e",
   "metadata": {},
   "outputs": [],
   "source": [
    "# !pip install jupyter_contrib_nbextensions\n",
    "# !jupyter contrib nbextension install --user"
   ]
  },
  {
   "cell_type": "code",
   "execution_count": 2,
   "id": "815841eb",
   "metadata": {},
   "outputs": [],
   "source": [
    "import pandas as pd\n",
    "import time\n",
    "from word_filtering_DFA import read_data, DFAUtils\n",
    "from DFA_filter import DFAFilter"
   ]
  },
  {
   "cell_type": "code",
   "execution_count": 3,
   "id": "ee6c2719",
   "metadata": {},
   "outputs": [
    {
     "data": {
      "text/html": [
       "<div>\n",
       "<style scoped>\n",
       "    .dataframe tbody tr th:only-of-type {\n",
       "        vertical-align: middle;\n",
       "    }\n",
       "\n",
       "    .dataframe tbody tr th {\n",
       "        vertical-align: top;\n",
       "    }\n",
       "\n",
       "    .dataframe thead th {\n",
       "        text-align: right;\n",
       "    }\n",
       "</style>\n",
       "<table border=\"1\" class=\"dataframe\">\n",
       "  <thead>\n",
       "    <tr style=\"text-align: right;\">\n",
       "      <th></th>\n",
       "      <th>新闻</th>\n",
       "      <th>内链</th>\n",
       "    </tr>\n",
       "  </thead>\n",
       "  <tbody>\n",
       "    <tr>\n",
       "      <th>0</th>\n",
       "      <td>https://www.xiayi.gov.cn/2022/0523/32591.html</td>\n",
       "      <td>NaN</td>\n",
       "    </tr>\n",
       "    <tr>\n",
       "      <th>1</th>\n",
       "      <td>https://www.xiayi.gov.cn/2022/0613/32986.html</td>\n",
       "      <td>NaN</td>\n",
       "    </tr>\n",
       "    <tr>\n",
       "      <th>2</th>\n",
       "      <td>https://www.xiayi.gov.cn/2022/0609/32936.html</td>\n",
       "      <td>www.creditchina.gov.cn,www.ccgp.gov.cn,http://...</td>\n",
       "    </tr>\n",
       "    <tr>\n",
       "      <th>3</th>\n",
       "      <td>https://www.xiayi.gov.cn/2022/0613/32985.html</td>\n",
       "      <td>NaN</td>\n",
       "    </tr>\n",
       "    <tr>\n",
       "      <th>4</th>\n",
       "      <td>https://www.xiayi.gov.cn/2022/0613/32987.html</td>\n",
       "      <td>NaN</td>\n",
       "    </tr>\n",
       "  </tbody>\n",
       "</table>\n",
       "</div>"
      ],
      "text/plain": [
       "                                              新闻  \\\n",
       "0  https://www.xiayi.gov.cn/2022/0523/32591.html   \n",
       "1  https://www.xiayi.gov.cn/2022/0613/32986.html   \n",
       "2  https://www.xiayi.gov.cn/2022/0609/32936.html   \n",
       "3  https://www.xiayi.gov.cn/2022/0613/32985.html   \n",
       "4  https://www.xiayi.gov.cn/2022/0613/32987.html   \n",
       "\n",
       "                                                  内链  \n",
       "0                                                NaN  \n",
       "1                                                NaN  \n",
       "2  www.creditchina.gov.cn,www.ccgp.gov.cn,http://...  \n",
       "3                                                NaN  \n",
       "4                                                NaN  "
      ]
     },
     "execution_count": 3,
     "metadata": {},
     "output_type": "execute_result"
    }
   ],
   "source": [
    "xszy = pd.read_excel('xiayi.xlsx')\n",
    "xszy.head()"
   ]
  },
  {
   "cell_type": "code",
   "execution_count": 3,
   "id": "ab7db00b",
   "metadata": {},
   "outputs": [],
   "source": [
    "# 旧算法\n",
    "word_list = read_data('眼遇整理.txt','utf-8')\n",
    "# 实例化词库\n",
    "dfa = DFAUtils(word_warehouse=word_list)\n",
    "\n",
    "# 升级的算法\n",
    "gfw = DFAFilter()\n",
    "gfw.parse(\"眼遇整理.txt\",'utf-8')"
   ]
  },
  {
   "cell_type": "code",
   "execution_count": 4,
   "id": "081e9827",
   "metadata": {},
   "outputs": [
    {
     "name": "stdout",
     "output_type": "stream",
     "text": [
      "                                             content  \\\n",
      "0  <p>　　我们所处的时代，催人奋进；我们进行的事业，前无古人。贯穿其中的最强旋律，就是全面发...   \n",
      "1  <p>　　即将召开的党的十九大，是在全面建成小康社会决胜阶段、中国特色社会主义发展关键时期召...   \n",
      "2  <p>　　习近平同志在“7·26”重要讲话中指出，中国特色社会主义不断取得的重大成就，意味着...   \n",
      "3  <p style=\"text-align: center; \">　<span style=\"...   \n",
      "4  <p>　　新古典经济学的理性和有限理性在逻辑上是同构的，都无法解释人的行为选择的道德伦理基础...   \n",
      "5  <p>　　<b>绿色发展理念的历史脉络</b></p>\\n<p>　　绿色发展是新发展理念的重...   \n",
      "\n",
      "                                        self_url  \n",
      "0  https://theory.dahe.cn/2017/10-17/202908.html  \n",
      "1  https://theory.dahe.cn/2017/10-17/202903.html  \n",
      "2  https://theory.dahe.cn/2017/10-17/202897.html  \n",
      "3  https://theory.dahe.cn/2017/10-17/202893.html  \n",
      "4  https://theory.dahe.cn/2017/10-17/202892.html  \n",
      "5  https://theory.dahe.cn/2017/10-17/202890.html  \n"
     ]
    }
   ],
   "source": [
    "print(xszy.loc[:5,['content','self_url']])\n",
    "test = xszy.loc[:5,['title','content','self_url']]"
   ]
  },
  {
   "cell_type": "code",
   "execution_count": 5,
   "id": "1d7748ab",
   "metadata": {},
   "outputs": [
    {
     "data": {
      "text/plain": [
       "0     执政党\n",
       "1    None\n",
       "2    中国崩溃\n",
       "3    None\n",
       "4    None\n",
       "5      性服\n",
       "Name: word, dtype: object"
      ]
     },
     "execution_count": 5,
     "metadata": {},
     "output_type": "execute_result"
    }
   ],
   "source": [
    "def getword(df):\n",
    "    list_name = gfw.find(str(df['content'])+str(df['title']),2)\n",
    "    if list_name:\n",
    "        return ','.join(set(list_name))\n",
    "    else:\n",
    "        return\n",
    "test.loc[:,'word']=test.apply(getword,axis=1)\n",
    "test['word']"
   ]
  },
  {
   "cell_type": "code",
   "execution_count": 19,
   "id": "d6472e6f-9a3f-4fa7-a296-f9e3be95751c",
   "metadata": {},
   "outputs": [],
   "source": [
    "def getstrfind(df):\n",
    "    list_name = dfa.str_find(str(df['content'])+str(df['title']))\n",
    "    if list_name:\n",
    "        return ','.join(set(list_name))\n",
    "    else:\n",
    "        return\n",
    "xszy.loc[:,'word']=xszy.apply(getstrfind,axis=1)"
   ]
  },
  {
   "cell_type": "code",
   "execution_count": 6,
   "id": "c7acabad",
   "metadata": {},
   "outputs": [
    {
     "name": "stdout",
     "output_type": "stream",
     "text": [
      "Cost is 42.906250\n"
     ]
    }
   ],
   "source": [
    "t = time.process_time()\n",
    "xszy.loc[:,'word']=xszy.apply(getword,axis=1)\n",
    "xszy.head()\n",
    "print('Cost is %6.6f' % (time.process_time() - t))"
   ]
  },
  {
   "cell_type": "code",
   "execution_count": 4,
   "id": "5c63ed14",
   "metadata": {},
   "outputs": [
    {
     "data": {
      "text/html": [
       "<div>\n",
       "<style scoped>\n",
       "    .dataframe tbody tr th:only-of-type {\n",
       "        vertical-align: middle;\n",
       "    }\n",
       "\n",
       "    .dataframe tbody tr th {\n",
       "        vertical-align: top;\n",
       "    }\n",
       "\n",
       "    .dataframe thead th {\n",
       "        text-align: right;\n",
       "    }\n",
       "</style>\n",
       "<table border=\"1\" class=\"dataframe\">\n",
       "  <thead>\n",
       "    <tr style=\"text-align: right;\">\n",
       "      <th></th>\n",
       "      <th>新闻</th>\n",
       "      <th>内链</th>\n",
       "    </tr>\n",
       "  </thead>\n",
       "  <tbody>\n",
       "    <tr>\n",
       "      <th>2</th>\n",
       "      <td>https://www.xiayi.gov.cn/2022/0609/32936.html</td>\n",
       "      <td>www.creditchina.gov.cn,www.ccgp.gov.cn,http://...</td>\n",
       "    </tr>\n",
       "    <tr>\n",
       "      <th>47</th>\n",
       "      <td>https://www.xiayi.gov.cn:443/xxgkzn/</td>\n",
       "      <td>http://www.xiayi.gov.cn,http://www.xiayi.gov.c...</td>\n",
       "    </tr>\n",
       "    <tr>\n",
       "      <th>48</th>\n",
       "      <td>https://www.xiayi.gov.cn:443/xxgk/</td>\n",
       "      <td>http://www.xiayi.gov.cn,http://www.xiayi.gov.c...</td>\n",
       "    </tr>\n",
       "    <tr>\n",
       "      <th>759</th>\n",
       "      <td>https://www.xiayi.gov.cn:443/2018/0428/12737.html</td>\n",
       "      <td>163.com,</td>\n",
       "    </tr>\n",
       "    <tr>\n",
       "      <th>843</th>\n",
       "      <td>https://www.xiayi.gov.cn:443/2021/0412/25812.html</td>\n",
       "      <td>163.com,</td>\n",
       "    </tr>\n",
       "  </tbody>\n",
       "</table>\n",
       "</div>"
      ],
      "text/plain": [
       "                                                    新闻  \\\n",
       "2        https://www.xiayi.gov.cn/2022/0609/32936.html   \n",
       "47                https://www.xiayi.gov.cn:443/xxgkzn/   \n",
       "48                  https://www.xiayi.gov.cn:443/xxgk/   \n",
       "759  https://www.xiayi.gov.cn:443/2018/0428/12737.html   \n",
       "843  https://www.xiayi.gov.cn:443/2021/0412/25812.html   \n",
       "\n",
       "                                                    内链  \n",
       "2    www.creditchina.gov.cn,www.ccgp.gov.cn,http://...  \n",
       "47   http://www.xiayi.gov.cn,http://www.xiayi.gov.c...  \n",
       "48   http://www.xiayi.gov.cn,http://www.xiayi.gov.c...  \n",
       "759                                           163.com,  \n",
       "843                                           163.com,  "
      ]
     },
     "execution_count": 4,
     "metadata": {},
     "output_type": "execute_result"
    }
   ],
   "source": [
    "nx = xszy.loc[xszy[\"内链\"].notnull(), ['新闻','内链']]\n",
    "nx.head()\n",
    "# xszy[\"word\"].isna()"
   ]
  },
  {
   "cell_type": "code",
   "execution_count": 5,
   "id": "992fe6e4",
   "metadata": {},
   "outputs": [],
   "source": [
    "# nx.to_csv('学术中原检测结果2.csv', index=False)\n",
    "nx.to_excel('夏邑内链检查结果.xlsx',index=False)"
   ]
  }
 ],
 "metadata": {
  "kernelspec": {
   "display_name": "Python 3 (ipykernel)",
   "language": "python",
   "name": "python3"
  },
  "language_info": {
   "codemirror_mode": {
    "name": "ipython",
    "version": 3
   },
   "file_extension": ".py",
   "mimetype": "text/x-python",
   "name": "python",
   "nbconvert_exporter": "python",
   "pygments_lexer": "ipython3",
   "version": "3.7.10"
  }
 },
 "nbformat": 4,
 "nbformat_minor": 5
}
